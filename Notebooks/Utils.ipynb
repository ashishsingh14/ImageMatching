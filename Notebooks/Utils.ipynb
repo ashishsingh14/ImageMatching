{
 "cells": [
  {
   "cell_type": "code",
   "execution_count": 1,
   "metadata": {},
   "outputs": [],
   "source": [
    "import numpy as np\n",
    "import sys, os\n",
    "import time, json\n",
    "import datetime"
   ]
  },
  {
   "cell_type": "code",
   "execution_count": 3,
   "metadata": {},
   "outputs": [],
   "source": [
    "def generate_html1(match_output_file_path, imgdir1, imgdir2, output_html_file_path, image_count=20):\n",
    "    \"\"\"\n",
    "    This function is used to generate a html file to visualize the output quickly. It accepts\n",
    "    matches file for a category, the corresponding directory for that directory and the matching category \n",
    "    directory having the images.\n",
    "    \"\"\"\n",
    "    output_directory_path = output_html_file_path.rsplit(\"/\", 1)[0]\n",
    "    if not os.path.exists(output_directory_path):\n",
    "        os.makedirs(output_directory_path)\n",
    "    if os.path.isfile(output_html_file_path):\n",
    "        os.remove(output_html_file_path)\n",
    "    try:\n",
    "        with open(match_output_file_path) as ff:\n",
    "            data = json.load(ff)\n",
    "        with open(output_html_file_path, \"w\") as f:\n",
    "            f.write('<html><body><table>')\n",
    "            f.write('<style type=\"text/css\">td{padding:0 15px 0 15px;}</style>')\n",
    "            for sku, all_variants in data.items():\n",
    "                for variant, similar_items in all_variants.items():\n",
    "                    if \"Default\" in variant:\n",
    "                        continue\n",
    "                    similar_items_list = []\n",
    "                    base_imagename = sku + \"_\" + variant + \".jpg\"\n",
    "                    for si in similar_items[:image_count]:\n",
    "                        similar_items_list.append((si[\"sku\"] + \"_\" + si[\"color_code\"] + \".jpg\", si[\"similarity_score\"]))\n",
    "                    htmlstr = '<tr>'\n",
    "                    htmlstr += '<td align=\"center\"><img height=\"200\" src=\"{0}/{1}\"/><br/>{2}</td>'.format(imgdir1, base_imagename, sku + \"_\" + variant)\n",
    "                    for match, score in similar_items_list:\n",
    "                        htmlstr += '<td align=\"center\"><img height=\"200\" src=\"{0}/{1}\"/><br/>{2}</td>'.format(imgdir2, match, match + \": \" + str(score))\n",
    "                    htmlstr += '</tr>'\n",
    "                    f.write(htmlstr)\n",
    "            f.write('</table></body></html>')\n",
    "    except Exception as e:\n",
    "        print(\"HTML file creation failed with error: {}\".format(str(e)))\n"
   ]
  },
  {
   "cell_type": "code",
   "execution_count": null,
   "metadata": {},
   "outputs": [],
   "source": [
    "def generate_html(match_output_file_path, imgdir1, imgdir2, output_html_file_path, match_count=15, \n",
    "                  image_col_count=5):\n",
    "    output_directory_path = output_html_file_path.rsplit(\"/\", 1)[0]\n",
    "    if not os.path.exists(output_directory_path):\n",
    "        os.makedirs(output_directory_path)\n",
    "    if os.path.isfile(output_html_file_path):\n",
    "        os.remove(output_html_file_path)\n",
    "    try:\n",
    "        with open(match_output_file_path) as ff:\n",
    "            data = json.load(ff)\n",
    "        with open(output_html_file_path, \"w\") as f:\n",
    "            f.write('<html><body><table>')\n",
    "            f.write('<style>table, th, td {border: 1px solid black;} </style>')\n",
    "            htmlstr = '<tr> ' \\\n",
    "                      '<th> Variant Name </th> ' \\\n",
    "                      '<th align=\"center\" colspan=\"{0}\"> Image Matches </th>' \\\n",
    "                      '</tr>'.format(image_col_count)\n",
    "            f.write(htmlstr)\n",
    "            for sku, all_variants in data.items():\n",
    "                for variant, similar_items in all_variants.items():\n",
    "                    if \"Default\" in variant:\n",
    "                        continue\n",
    "                    base_imagename = base_image_url.format(sku=sku, variant=variant)\n",
    "                    similar_items = similar_items[0:match_count]\n",
    "                    htmlstr = ''\n",
    "                    row_count = int(math.ceil(len(similar_items)/float(image_col_count)))\n",
    "                    for n in range(row_count):\n",
    "                        htmlstr += '<tr>'\n",
    "                        if n == 0:\n",
    "                            htmlstr += '<td rowspan=\"{0}\" align=\"center\" >' \\\n",
    "                                       '<img height=\"200\" src=\"{1}\"/>' \\\n",
    "                                       '<br/>' \\\n",
    "                                       '{2}' \\\n",
    "                                       '</td>' \\\n",
    "                                .format(row_count, base_imagename, \"Variant:\" + sku + \"_\" + variant)\n",
    "\n",
    "                        for si in similar_items[image_col_count*n: image_col_count*n + image_col_count]:\n",
    "                            matched_variant = base_image_url.format(sku=si[\"sku\"], variant=si[\"color_code\"])\n",
    "                            htmlstr += '<td align=\"center\" >' \\\n",
    "                                       '<img height=\"200\" src=\"{0}\"/>' \\\n",
    "                                       '<br/>' \\\n",
    "                                       '{1}' \\\n",
    "                                       '</td>'\\\n",
    "                                .format(matched_variant, si[\"sku\"] + \"_\" + si[\"color_code\"] + \" : \" + str(si[\"similarity_score\"]))\n",
    "                        htmlstr += '</tr>'\n",
    "                    f.write(htmlstr)\n",
    "            f.write('</table></body></html>')\n",
    "    except Exception as e:\n",
    "        print(\"HTML file creation failed with error: {}\".format(str(e)))\n"
   ]
  },
  {
   "cell_type": "code",
   "execution_count": 4,
   "metadata": {},
   "outputs": [
    {
     "data": {
      "text/plain": [
       "'/Users/asingh/Documents/Learning/Projects/Image_Matching/Notebooks/Output/bras.json'"
      ]
     },
     "execution_count": 4,
     "metadata": {},
     "output_type": "execute_result"
    }
   ],
   "source": [
    "\"/Users/asingh/Documents/Learning/Projects/Image_Matching/Notebooks/Output/bras.json\""
   ]
  },
  {
   "cell_type": "code",
   "execution_count": 6,
   "metadata": {},
   "outputs": [],
   "source": [
    "bras_dir = \"/Users/asingh/161912097/scratch/lanebryant/images/bras/\"\n",
    "panties_dir = \"/Users/asingh/161912097/scratch/lanebryant/images/panties/\"\n",
    "output_filename_bras = \"/Users/asingh/Documents/Learning/Projects/Image_Matching/Notebooks/Output/bras.json\"\n",
    "output_filename_panties = \"/Users/asingh/Documents/Learning/Projects/Image_Matching/Notebooks/Output/panties.json\"\n",
    "\n",
    "generate_html(output_filename_bras, bras_dir, panties_dir, \n",
    "              \"/Users/asingh/Documents/Learning/Projects/Image_Matching/Notebooks/Output/bras_matches.html\")\n"
   ]
  },
  {
   "cell_type": "code",
   "execution_count": 19,
   "metadata": {},
   "outputs": [],
   "source": [
    "d = {\"one\":1, \"two\":2}"
   ]
  },
  {
   "cell_type": "code",
   "execution_count": 20,
   "metadata": {},
   "outputs": [
    {
     "data": {
      "text/plain": [
       "dict_items([('one', 1), ('two', 2)])"
      ]
     },
     "execution_count": 20,
     "metadata": {},
     "output_type": "execute_result"
    }
   ],
   "source": [
    "d.items()"
   ]
  },
  {
   "cell_type": "code",
   "execution_count": 33,
   "metadata": {},
   "outputs": [],
   "source": [
    "! open Output/bras_matches.html"
   ]
  },
  {
   "cell_type": "code",
   "execution_count": null,
   "metadata": {},
   "outputs": [],
   "source": []
  }
 ],
 "metadata": {
  "kernelspec": {
   "display_name": "Python 3",
   "language": "python",
   "name": "python3"
  },
  "language_info": {
   "codemirror_mode": {
    "name": "ipython",
    "version": 3
   },
   "file_extension": ".py",
   "mimetype": "text/x-python",
   "name": "python",
   "nbconvert_exporter": "python",
   "pygments_lexer": "ipython3",
   "version": "3.6.5"
  }
 },
 "nbformat": 4,
 "nbformat_minor": 2
}
